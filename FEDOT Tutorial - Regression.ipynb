{
 "cells": [
  {
   "cell_type": "markdown",
   "id": "4e0122b0-a6f5-4332-a5c1-718f09a46ec5",
   "metadata": {
    "tags": []
   },
   "source": [
    "<center><img src=https://github.com/nccr-itmo/FEDOT/raw/master/docs/fedot_logo.png></img></center>\n",
    "\n",
    "# <center>Решение задачи регрессии при помощи фреймворка [FEDOT](https://github.com/nccr-itmo/FEDOT)</center>"
   ]
  },
  {
   "cell_type": "markdown",
   "id": "92d4dee5-b9d3-4398-94ca-3ed762894427",
   "metadata": {
    "tags": []
   },
   "source": [
    "## Введение"
   ]
  },
  {
   "cell_type": "markdown",
   "id": "f1ee1cdc-3d8c-4645-85c4-8df3474502e3",
   "metadata": {},
   "source": [
    "Для решения любой задачи при помощи методов машинного обучения, исследователю требуется пройти множество шагов: от предобработки данных, выбора наиболее качественных признаков, преобразования признаков, подбора модели и до настройка гиперпараметров для запуска.\n",
    "\n",
    "Концепция задач **автоматического машинного обучения (AutoML)** направлена на уменьшении (или даже в полном исключении) участия человека в процессе решения задач машинного обучения. На основе доступных данных (обучающей выборки) осуществляется поиск оптимального **пайплайна** (последовательности действий над данными и моделей для предсказания) для наиболее лучшего решения задачи.\n",
    "\n",
    "<center><img src=https://habrastorage.org/r/w1560/webt/5r/9t/sd/5r9tsdb-inbszzrmy_jnmpphiwe.png></img></center>\n",
    "\n",
    "**FEDOT** - это фреймворк с открытым исходным кодом автоматического машинного обучения, который способен автоматизировать создание и оптимизацию пайплайнов машинного обучения и их элементов. \n",
    "Фреймворк позволяет компактно и эффективно решать различные задачи моделирования."
   ]
  },
  {
   "cell_type": "markdown",
   "id": "99fd0baf-eb1c-4789-a60d-a829f180ca30",
   "metadata": {
    "tags": []
   },
   "source": [
    "### Установка FEDOT"
   ]
  },
  {
   "cell_type": "markdown",
   "id": "393dcef4-2e83-4f75-a1c4-01c8de965755",
   "metadata": {},
   "source": [
    "Наиболее простой способ установки фреймворка **FEDOT** через `pip`:"
   ]
  },
  {
   "cell_type": "code",
   "execution_count": 1,
   "id": "1b9155bd-a7db-4f09-a4bb-5f8c0805111c",
   "metadata": {},
   "outputs": [],
   "source": [
    "# !pip install fedot"
   ]
  },
  {
   "cell_type": "markdown",
   "id": "bffc1a90-aba4-4624-a3bc-77977c3b5298",
   "metadata": {},
   "source": [
    "Однако, на данный момент, мы рекомендуем вам его установить напрямую из master ветки репозитория:"
   ]
  },
  {
   "cell_type": "code",
   "execution_count": 2,
   "id": "dd0d37ef-624e-4436-ae59-fb3bb2325844",
   "metadata": {},
   "outputs": [],
   "source": [
    "!pip install --upgrade --force-reinstall --no-cache-dir --quiet --no-warn-script-location https://github.com/nccr-itmo/FEDOT/archive/hotfix_isolation.zip"
   ]
  },
  {
   "cell_type": "markdown",
   "id": "d67ed3a0-9d56-4256-ace2-f1e749e44641",
   "metadata": {},
   "source": [
    "<div class=\"alert alert-block alert-info\"><b>Примечание</b>: существуют альтернаитвные способы установки, с которыми можно ознакомится в разделе <b><a href=\"https://fedot.readthedocs.io/en/latest/introduction/tutorial/quickstart.html\">Quickstart</a></b> в нашей документации.</div>"
   ]
  },
  {
   "cell_type": "markdown",
   "id": "2747768c-a467-49a9-98f4-f4b78a82ea5c",
   "metadata": {},
   "source": [
    "## Подготовка MLflow"
   ]
  },
  {
   "cell_type": "markdown",
   "id": "d87903d4-5e07-47f1-a11e-3782b9921613",
   "metadata": {},
   "source": [
    "**MLflow** — это Open Source-платформа, предназначенная для управления жизненным циклом моделей машинного обучения. В том числе она решает задачи воспроизведения экспериментов, публикации моделей и включает в себя центральный реестр моделей. С помощью **MLflow** можно обернуть свои эксперименты с **FEDOT** и другими фреймворками"
   ]
  },
  {
   "cell_type": "code",
   "execution_count": 3,
   "id": "e733a13a-c131-4db5-b86d-603d5e1d6401",
   "metadata": {},
   "outputs": [],
   "source": [
    "import mlflow"
   ]
  },
  {
   "cell_type": "code",
   "execution_count": 4,
   "id": "adbeaa92-b885-4cdc-b05f-c6c197193feb",
   "metadata": {},
   "outputs": [
    {
     "data": {
      "text/plain": [
       "'https://ml-platform-3b3039c3f6f64a.ml.msk.vkcs.cloud'"
      ]
     },
     "execution_count": 4,
     "metadata": {},
     "output_type": "execute_result"
    }
   ],
   "source": [
    "mlflow.get_tracking_uri()"
   ]
  },
  {
   "cell_type": "code",
   "execution_count": 5,
   "id": "c3e6e462-12c4-4ae0-9f90-7488ce7156d4",
   "metadata": {},
   "outputs": [],
   "source": [
    "# Укажите свой, который указан в VK clouds\n",
    "mlflow_url_instance = \"https://ml-platform-3b3039c3f6f64a.ml.msk.vkcs.cloud\"\n",
    "mlflow.set_tracking_uri(mlflow_url_instance)"
   ]
  },
  {
   "cell_type": "code",
   "execution_count": 6,
   "id": "f8d67b7b-7928-4d50-b26e-9eb819ae1e93",
   "metadata": {},
   "outputs": [
    {
     "data": {
      "text/plain": [
       "'https://ml-platform-3b3039c3f6f64a.ml.msk.vkcs.cloud'"
      ]
     },
     "execution_count": 6,
     "metadata": {},
     "output_type": "execute_result"
    }
   ],
   "source": [
    "mlflow.get_tracking_uri()"
   ]
  },
  {
   "cell_type": "markdown",
   "id": "dc3fcca0-7636-49c2-8055-e751dfaf86d5",
   "metadata": {
    "tags": []
   },
   "source": [
    "## Данные"
   ]
  },
  {
   "cell_type": "markdown",
   "id": "9821d8a2-784c-4a72-87f8-f5af9375e18d",
   "metadata": {},
   "source": [
    "В качестве примера задачи регрессии возьмем данные из Kaggle [Molhack](https://www.kaggle.com/competitions/molhack-2022). В этом соревновании требуется научиться по трехмерной реализации молекулы предсказывать энергию. Предоставляется набор конформаций подвыборки молекул датасета MOSES. Для части конформаций будет так же дано значение энергии.\n",
    "\n",
    "Впервую очередь, необходимо загрузить данные из репозитория:"
   ]
  },
  {
   "cell_type": "code",
   "execution_count": 7,
   "id": "cbbbcc88-f98e-4ae6-9f52-8a8a70240670",
   "metadata": {},
   "outputs": [],
   "source": [
    "# Reboot kernel after installing\n",
    "!pip install --quiet --no-warn-script-location ase"
   ]
  },
  {
   "cell_type": "code",
   "execution_count": 8,
   "id": "13525a99-6660-4c2c-bdf8-c84b32564f12",
   "metadata": {},
   "outputs": [],
   "source": [
    "from ase.db import connect"
   ]
  },
  {
   "cell_type": "code",
   "execution_count": 9,
   "id": "f1a72b0c-8c4f-49f6-ae89-0610c890e00e",
   "metadata": {},
   "outputs": [],
   "source": [
    "db = connect(\"/home/jupyter-admin/train.db\")\n",
    "db_test = connect(\"/home/jupyter-admin/test.db\")\n",
    "\n",
    "features = []\n",
    "target = []\n",
    "\n",
    "# Загрузка данных из базы данных\n",
    "for row in db.select():\n",
    "    features.append([row.natoms, list(row.numbers)])\n",
    "    target.append(row.data['energy'])\n",
    "\n",
    "features_test = []\n",
    "\n",
    "for row in db_test.select():\n",
    "    features_test.append([row.natoms, list(row.numbers)])"
   ]
  },
  {
   "cell_type": "code",
   "execution_count": 10,
   "id": "ef94dbda-b5d0-4874-9545-08feaad8e583",
   "metadata": {},
   "outputs": [],
   "source": [
    "from sklearn.feature_extraction import DictVectorizer\n",
    "from collections import Counter\n",
    "\n",
    "# Векторизация признаков\n",
    "d = DictVectorizer()\n",
    "features_onehot = d.fit_transform([Counter(x[1]) for x in features])\n",
    "features_onehot_test = d.transform([Counter(x[1]) for x in features_test])"
   ]
  },
  {
   "cell_type": "markdown",
   "id": "d76d31d6-95b0-447e-b9c7-fb3da4020c2a",
   "metadata": {},
   "source": [
    "В данном туториале данные будут открыты через внутренний тип данных в фреймворке **FEDOT** - `InputData()`.\n",
    "\n",
    "Из кусочков соберем данные в `InputData()`:\n",
    "* `idx` - переменная, которая хранит индексы;\n",
    "* `features` - переменная, которая хранит данные признаков;\n",
    "* `target` - переменная, которая хранит значения целевого признака;\n",
    "* `task` - хранит тип решаемой задачи;\n",
    "* `data_type` - хранит типа данных, в нашем случае, табличный;"
   ]
  },
  {
   "cell_type": "code",
   "execution_count": 11,
   "id": "7306067d-1a0d-471c-aeb3-5fcf80590a86",
   "metadata": {},
   "outputs": [],
   "source": [
    "import numpy as np\n",
    "from sklearn.model_selection import train_test_split\n",
    "\n",
    "from fedot.core.data.data import InputData\n",
    "from fedot.core.repository.dataset_types import DataTypesEnum\n",
    "from fedot.core.repository.tasks import Task, TaskTypesEnum\n",
    "\n",
    "# Подготовка данных\n",
    "X_train, X_test, y_train, y_test = train_test_split(features_onehot, target)\n",
    "X_val = features_onehot_test\n",
    "\n",
    "task = Task(TaskTypesEnum.regression)\n",
    "\n",
    "train_input = InputData(\n",
    "    idx=np.arange(0, len(X_train.toarray())),  \n",
    "    features=X_train.toarray(),                \n",
    "    target=np.array(y_train),                  \n",
    "    task=task,                                 \n",
    "    data_type=DataTypesEnum.table              \n",
    ")\n",
    "\n",
    "predict_input = InputData(\n",
    "    idx=np.arange(0, len(X_test.toarray())),\n",
    "    features=X_test.toarray(),\n",
    "    target=np.array(y_test),\n",
    "    task=task,\n",
    "    data_type=DataTypesEnum.table\n",
    ")\n",
    "\n",
    "val_input = InputData(\n",
    "    idx=np.arange(0, len(X_val.toarray())),\n",
    "    features=X_val.toarray(),\n",
    "    target=None,\n",
    "    task=task,\n",
    "    data_type=DataTypesEnum.table\n",
    ")"
   ]
  },
  {
   "cell_type": "code",
   "execution_count": 12,
   "id": "053b3284-6fe8-4095-a24e-e5b82c1c4058",
   "metadata": {},
   "outputs": [
    {
     "name": "stdout",
     "output_type": "stream",
     "text": [
      "Train: (150174, 8) \\ Test: (50058, 8)\n",
      "----------\n"
     ]
    }
   ],
   "source": [
    "print('Train:', train_input.features.shape, '\\ Test:', predict_input.features.shape)\n",
    "print('-' * 10)"
   ]
  },
  {
   "cell_type": "markdown",
   "id": "03298fe4-d2ce-49d3-88c5-0323415c63dc",
   "metadata": {},
   "source": [
    "Эксперименты будем отслеживать через **MLflow**. Для этого зададим общее имя эксперимента через `.set_experiment()` и запустим первый через `start_run()`"
   ]
  },
  {
   "cell_type": "code",
   "execution_count": 13,
   "id": "22361915-d622-43ad-9ebe-4fddcd3edef5",
   "metadata": {},
   "outputs": [],
   "source": [
    "try:\n",
    "    mlflow.set_experiment(\"automl_regression_airi\")\n",
    "except:\n",
    "    # Если появляется ошибка о сущесвовании экспримента с подобным именем, то удалить его можно следующим образом:\n",
    "    exp_id = mlflow.tracking.MlflowClient().get_experiment_by_name(\"automl_regression_airi\").experiment_id\n",
    "    mlflow.tracking.MlflowClient().restore_experiment(exp_id)\n",
    "    mlflow.set_experiment(\"automl_regression_airi\")"
   ]
  },
  {
   "cell_type": "markdown",
   "id": "2a818c17-b463-4a00-999c-ca68bf964d01",
   "metadata": {},
   "source": [
    "И еще в конце объявим необходимые модули и методы"
   ]
  },
  {
   "cell_type": "code",
   "execution_count": 14,
   "id": "3d381d41-8466-4497-bccc-da931196eceb",
   "metadata": {},
   "outputs": [],
   "source": [
    "import json\n",
    "import pickle\n",
    "\n",
    "from time import time\n",
    "from fedot.api.main import Fedot\n",
    "\n",
    "def convert_json_to_pkl(path_to_json, path_to_pkl):\n",
    "    with open(path_to_json, \"rb\") as json_file:\n",
    "        pipeline = json.load(json_file)\n",
    "        with open(path_to_pkl, \"wb\") as pkl_file:\n",
    "            pickle.dump(pipeline, pkl_file)"
   ]
  },
  {
   "cell_type": "markdown",
   "id": "9587005f-43a9-48c9-8adf-70e8143dcf4b",
   "metadata": {},
   "source": [
    "Теперь мы готовы приступить к запуску экспериментов"
   ]
  },
  {
   "cell_type": "markdown",
   "id": "ad5eb34e-e625-4d4a-9620-199a61ac4b59",
   "metadata": {
    "tags": []
   },
   "source": [
    "## Первый эксперимент - Простая модель"
   ]
  },
  {
   "cell_type": "markdown",
   "id": "aeaa99f0-c332-4dfe-87c7-dfe7e74c69a2",
   "metadata": {},
   "source": [
    "Возьмем в качестве бейзлайна случайный лес для регрессии"
   ]
  },
  {
   "cell_type": "code",
   "execution_count": 42,
   "id": "0a49572b-c08c-41f4-8260-bb6dfcd8a89b",
   "metadata": {},
   "outputs": [
    {
     "data": {
      "text/plain": [
       "<ActiveRun: >"
      ]
     },
     "execution_count": 42,
     "metadata": {},
     "output_type": "execute_result"
    }
   ],
   "source": [
    "mlflow.start_run(run_name=\"baseline\")"
   ]
  },
  {
   "cell_type": "code",
   "execution_count": 43,
   "id": "1527ff91-6ba8-48b3-8589-2bc32df53d7c",
   "metadata": {},
   "outputs": [],
   "source": [
    "baseline_model = Fedot(\n",
    "    problem='regression',\n",
    "    timeout=1,\n",
    "    metric='mae',\n",
    ")"
   ]
  },
  {
   "cell_type": "markdown",
   "id": "25bf4617-ea8f-49c0-a51c-8f6c043b3b57",
   "metadata": {},
   "source": [
    "В базовый класс api фреймворка `Fedot` мы передаем следующие параметры:\n",
    "* `problem = 'regression'` - неообходимо дать понять какую задачу предстоить решать фреймворку\n",
    "* `timeout = 1` - такое малое количество времени, потому что модель уже найдена и композировать нет необходимости\n",
    "* `metric = 'mae'` - необходимая метрика MAE для этой задачи\n",
    "\n",
    "Для запуска обучения пайлпайна состоящего из одной модели достаточно указать в параметре `predefined_model` конкретную модель (можно и набор моделей)"
   ]
  },
  {
   "cell_type": "code",
   "execution_count": 44,
   "id": "f688005f-57a5-40a6-8dec-f4d22ee9280b",
   "metadata": {},
   "outputs": [
    {
     "name": "stdout",
     "output_type": "stream",
     "text": [
      "2022-10-18 12:15:51,553 - FEDOT logger - Final pipeline: {'depth': 1, 'length': 1, 'nodes': [rfr]}\n"
     ]
    }
   ],
   "source": [
    "start_time = time()\n",
    "baseline_model.fit(\n",
    "    features=train_input,\n",
    "    predefined_model=\"rfr\"\n",
    ")\n",
    "end_time = time()"
   ]
  },
  {
   "cell_type": "markdown",
   "id": "839f0150-b5f1-4ad5-8d20-3e34e2f9ede8",
   "metadata": {},
   "source": [
    "Теперь сделаем предсказания на тестовых данных и посмотрим на полученный результат по метрикам"
   ]
  },
  {
   "cell_type": "code",
   "execution_count": 45,
   "id": "65f5632a-1515-4360-9349-31fa19f5979b",
   "metadata": {},
   "outputs": [],
   "source": [
    "prediction = baseline_model.predict(features=predict_input)\n",
    "metrics_result = baseline_model.get_metrics(metric_names=['rmse', 'mae', 'r2'])"
   ]
  },
  {
   "cell_type": "code",
   "execution_count": 46,
   "id": "350631d9-b206-40e5-8bb2-a65c23930fb1",
   "metadata": {},
   "outputs": [
    {
     "data": {
      "text/plain": [
       "{'rmse': 10.861989392041297,\n",
       " 'mae': 0.9575749843622976,\n",
       " 'r2': 0.9998505735533824}"
      ]
     },
     "execution_count": 46,
     "metadata": {},
     "output_type": "execute_result"
    }
   ],
   "source": [
    "metrics_result"
   ]
  },
  {
   "cell_type": "markdown",
   "id": "16ba5bcb-9034-4856-8ea0-81ff9e908a87",
   "metadata": {},
   "source": [
    "Отправим логи эксперимента в **MLflow**"
   ]
  },
  {
   "cell_type": "code",
   "execution_count": 47,
   "id": "0405a85a-7675-4b96-877f-762dad6ec77c",
   "metadata": {},
   "outputs": [],
   "source": [
    "path_to_local = \"/home/jupyter-admin/\"\n",
    "\n",
    "# логирование парамметров запуска\n",
    "mlflow.log_param(\"preset\", \"rfr\")\n",
    "mlflow.log_param(\"timeout\", baseline_model.params.api_params['timeout'])\n",
    "mlflow.log_param(\"cv_folds\", baseline_model.params.api_params['cv_folds'])\n",
    "\n",
    "# логирование метрик и времени обучения\n",
    "mlflow.log_metric(\"rmse\", metrics_result['rmse'])\n",
    "mlflow.log_metric(\"mae\", metrics_result['mae'])\n",
    "mlflow.log_metric(\"r2\", metrics_result['r2'])\n",
    "mlflow.log_metric(\"training_time\", (end_time - start_time) / 60)"
   ]
  },
  {
   "cell_type": "markdown",
   "id": "de629332-f957-4c16-9842-bf65cbc6dcc6",
   "metadata": {},
   "source": [
    "Завершаем логирование данного эксперимента и переходим в **MLflow UI** для просмотра результата"
   ]
  },
  {
   "cell_type": "code",
   "execution_count": 48,
   "id": "4a144158-76a7-4a2e-b851-b3d5a8383521",
   "metadata": {},
   "outputs": [
    {
     "data": {
      "text/plain": [
       "'https://ml-platform-3b3039c3f6f64a.ml.msk.vkcs.cloud'"
      ]
     },
     "execution_count": 48,
     "metadata": {},
     "output_type": "execute_result"
    }
   ],
   "source": [
    "mlflow.end_run()\n",
    "\n",
    "mlflow.get_tracking_uri()"
   ]
  },
  {
   "cell_type": "markdown",
   "id": "6856a463-de85-4a4e-98cd-046f24815f51",
   "metadata": {
    "tags": []
   },
   "source": [
    "## Второй эксперимент - fast_train"
   ]
  },
  {
   "cell_type": "code",
   "execution_count": 22,
   "id": "cbf2f46e-c833-40ea-afeb-47aa7cb24501",
   "metadata": {},
   "outputs": [
    {
     "data": {
      "text/plain": [
       "<ActiveRun: >"
      ]
     },
     "execution_count": 22,
     "metadata": {},
     "output_type": "execute_result"
    }
   ],
   "source": [
    "mlflow.start_run(run_name=\"fast_train\")"
   ]
  },
  {
   "cell_type": "markdown",
   "id": "a36a26a8-07c0-41dc-98bf-46d0566ad1a4",
   "metadata": {},
   "source": [
    "**FEDOT** для поиска оптимального пайплайна позволяет отталкиваться от заданных моделей. Для этого необзодимо задать начальный пайплайн, давайте возьмём, например, линейную регрессию, и сделаем ее в качестве отправной точки для генерации новых пайплайнов.\n",
    "\n",
    "Для создания пайплайнов необходим класс `PipelineBuilder()`, в котором есть методы для ручной сборки.\n",
    "\n",
    "Добавим в пайплайн вершину при помощи `.add_node('linear')` и преобразуем переменную в объект пайплайна через метод `to_pipeline()` "
   ]
  },
  {
   "cell_type": "code",
   "execution_count": 23,
   "id": "595e7431-d1eb-4e73-96e1-e5d9518f1a7a",
   "metadata": {},
   "outputs": [],
   "source": [
    "from fedot.core.pipelines.pipeline_builder import PipelineBuilder\n",
    "\n",
    "builder = PipelineBuilder()\n",
    "\n",
    "linear_pipeline = builder.add_node('linear').to_pipeline()\n",
    "\n",
    "model = Fedot(\n",
    "    problem='regression',\n",
    "    timeout=20,\n",
    "    cv_folds=5,\n",
    "    metric='mae',\n",
    "    n_jobs=1,\n",
    "    preset='fast_train',\n",
    "    initial_assumption=linear_pipeline\n",
    ")"
   ]
  },
  {
   "cell_type": "markdown",
   "id": "c5973814-5f00-4ca8-96a4-d2a5728bab71",
   "metadata": {},
   "source": [
    "В базовый класс api фреймворка `Fedot` мы передаем следующие параметры:\n",
    "* `problem = 'regression'` - неообходимо дать понять какую задачу предстоить решать фреймворку\n",
    "* `timeout = 20` - указать сколько у него есть времени в минутах для решения\n",
    "* `cv_folds = 5` - количество фолдов для предовтращения переобучения\n",
    "* `metric = 'mae'` - какую метрику ему улучшать, в нашем случае метрика MAE \n",
    "* `n_jobs = 1` - количество используемых ядер для выполнения распараллеливания процесса поиска оптимального пайплайна\n",
    "* `preset = 'fast_train'` - используемый пресет моделей и операций. В данном случае, используем модели, которые быстро обучаются\n",
    "* `initial_assumption = linear_pipeline` - начальное приближение для улучшения его при помощи AutoML. На вход принимается объекты класса `Pipeline()`\n",
    "\n",
    "<div class=\"alert alert-block alert-info\"><b>Примечание</b>: существуют также и другие параметры для запуска FEDOT. Более подробнее можно ознакомится в разделе <b><a href=\"https://fedot.readthedocs.io/en/latest/api/api.html\">FEDOT API</a></b> в нашей документации.</div>\n",
    "\n",
    "Далее можно приступить к запуску процесса поиска оптимального пайплайна и его обучения."
   ]
  },
  {
   "cell_type": "code",
   "execution_count": 24,
   "id": "13818df6-f7c8-4c32-9fe4-365a1b4702eb",
   "metadata": {},
   "outputs": [
    {
     "name": "stdout",
     "output_type": "stream",
     "text": [
      "2022-10-18 09:43:59,812 - ApiComposer - Initial pipeline was fitted in 2.6 sec.\n",
      "2022-10-18 09:43:59,818 - ApiComposer - AutoML configured. Parameters tuning: True Time limit: 20 min Set of candidate models: ['adareg', 'pca', 'normalization', 'scaling', 'dtreg', 'linear', 'ridge', 'knnreg', 'sgdr', 'lasso', 'rfr']\n",
      "2022-10-18 09:43:59,826 - ApiComposer - Pipeline composition started.\n"
     ]
    },
    {
     "name": "stderr",
     "output_type": "stream",
     "text": [
      "Generations:   0%|          | 1/10000 [00:00<?, ?gen/s]"
     ]
    },
    {
     "name": "stdout",
     "output_type": "stream",
     "text": [
      "2022-10-18 09:56:27,545 - GroupedCondition - Optimisation stopped: Time limit is reached\n"
     ]
    },
    {
     "name": "stderr",
     "output_type": "stream",
     "text": [
      "Generations:   0%|          | 1/10000 [12:27<?, ?gen/s]"
     ]
    },
    {
     "name": "stdout",
     "output_type": "stream",
     "text": [
      "2022-10-18 09:56:27,551 - ApiComposer - Hyperparameters tuning started with 7 min. timeout\n"
     ]
    },
    {
     "name": "stderr",
     "output_type": "stream",
     "text": [
      "\n"
     ]
    },
    {
     "name": "stdout",
     "output_type": "stream",
     "text": [
      "  0%|          | 18/100000 [07:35<702:12:27, 25.28s/trial, best loss: 0.4093194862416086]\n",
      "2022-10-18 10:04:54,328 - ApiComposer - Hyperparameters tuning finished\n",
      "2022-10-18 10:04:54,797 - ApiComposer - Model generation finished\n",
      "2022-10-18 10:04:57,099 - FEDOT logger - Final pipeline was fitted\n",
      "2022-10-18 10:04:57,101 - FEDOT logger - Final pipeline: {'depth': 3, 'length': 5, 'nodes': [dtreg, linear, normalization, pca, scaling]}\n"
     ]
    }
   ],
   "source": [
    "start_time = time()\n",
    "pipeline = model.fit(features=train_input)\n",
    "end_time = time()"
   ]
  },
  {
   "cell_type": "code",
   "execution_count": 25,
   "id": "c72ba1a0-95c7-4ae4-9d9e-9a392a258ec8",
   "metadata": {},
   "outputs": [],
   "source": [
    "prediction = model.predict(features=predict_input)\n",
    "metrics_result = model.get_metrics(metric_names=['rmse', 'mae', 'r2'])"
   ]
  },
  {
   "cell_type": "code",
   "execution_count": 26,
   "id": "dd59db59-27e5-4f80-af04-b69441319cf6",
   "metadata": {},
   "outputs": [
    {
     "data": {
      "text/plain": [
       "{'rmse': 12.83999591930076,\n",
       " 'mae': 0.1542545919697655,\n",
       " 'r2': 0.9997911961549576}"
      ]
     },
     "execution_count": 26,
     "metadata": {},
     "output_type": "execute_result"
    }
   ],
   "source": [
    "metrics_result"
   ]
  },
  {
   "cell_type": "code",
   "execution_count": 27,
   "id": "4934a4d6-d6ab-4e48-933e-ba7656f594eb",
   "metadata": {},
   "outputs": [
    {
     "data": {
      "text/plain": [
       "{'depth': 3, 'length': 5, 'nodes': [dtreg, linear, normalization, pca, scaling]}"
      ]
     },
     "execution_count": 27,
     "metadata": {},
     "output_type": "execute_result"
    }
   ],
   "source": [
    "model.current_pipeline"
   ]
  },
  {
   "cell_type": "markdown",
   "id": "1f4a10e8-07cf-417e-9196-7bde25137339",
   "metadata": {},
   "source": [
    "**FEDOT** позволяет сохранить историю процесса генераци в формате **.json**. Однако **MLflow** принимает файлы **.pkl**, поэтому конвертируем их при помощи метода, который был объявлен в самом начале"
   ]
  },
  {
   "cell_type": "code",
   "execution_count": 28,
   "id": "e299185b-bbd5-4732-8049-f18de9b90ad7",
   "metadata": {},
   "outputs": [],
   "source": [
    "model.history.save(\"history.json\");\n",
    "\n",
    "path_to_json = \"/home/jupyter-admin/history.json\"\n",
    "path_to_history_pkl = \"/home/jupyter-admin/history.pkl\"\n",
    "\n",
    "convert_json_to_pkl(path_to_json, path_to_history_pkl)"
   ]
  },
  {
   "cell_type": "markdown",
   "id": "af87af8d-2219-4db4-95e5-46a30e67a5e4",
   "metadata": {},
   "source": [
    "Также поступим и с найденным пайплайном"
   ]
  },
  {
   "cell_type": "code",
   "execution_count": 29,
   "id": "3395a822-1774-4b00-96e6-923b23f207f5",
   "metadata": {},
   "outputs": [],
   "source": [
    "model.current_pipeline.save(\"pipeline.json\", datetime_in_path=False)\n",
    "\n",
    "path_to_json = \"/home/jupyter-admin/pipeline/pipeline.json\"\n",
    "path_to_pipeline_pkl = \"/home/jupyter-admin/pipeline/pipeline.pkl\"\n",
    "\n",
    "convert_json_to_pkl(path_to_json, path_to_pipeline_pkl)"
   ]
  },
  {
   "cell_type": "markdown",
   "id": "1eea8572-e59d-4c84-9d28-d6896c579e9f",
   "metadata": {},
   "source": [
    "Сохраним графики"
   ]
  },
  {
   "cell_type": "code",
   "execution_count": 30,
   "id": "74c58a04-d703-434c-956f-7a4377559559",
   "metadata": {},
   "outputs": [],
   "source": [
    "pipeline.show(\"pipeline_structure.png\", node_size_scale=0.5, dpi=100)"
   ]
  },
  {
   "cell_type": "markdown",
   "id": "44bdaf9c-6d0b-45cf-a2d0-acad6538d9db",
   "metadata": {},
   "source": [
    "Теперь приступим к логированнию эксперимента в **MLflow**"
   ]
  },
  {
   "cell_type": "code",
   "execution_count": 31,
   "id": "7e94cc07-c22b-4248-9043-673d1daebdd0",
   "metadata": {},
   "outputs": [],
   "source": [
    "# Путь до директории со всем содержимым\n",
    "path_to_local = \"/home/jupyter-admin/\"\n",
    "\n",
    "# логирование парамметров запуска\n",
    "mlflow.log_param(\"preset\", model.params.api_params['preset'])\n",
    "mlflow.log_param(\"timeout\", model.params.api_params['timeout'])\n",
    "mlflow.log_param(\"cv_folds\", model.params.api_params['cv_folds'])\n",
    "\n",
    "# логирование метрик и времени обучения\n",
    "mlflow.log_metric(\"rmse\", metrics_result['rmse'])\n",
    "mlflow.log_metric(\"mae\", metrics_result['mae'])\n",
    "mlflow.log_metric(\"r2\", metrics_result['r2'])\n",
    "mlflow.log_metric(\"training_time\", (end_time - start_time) / 60)\n",
    "\n",
    "# логирование структуры в виде графика\n",
    "mlflow.log_artifact(path_to_local + \"pipeline_structure.png\")\n",
    "\n",
    "# логирование модели и истории\n",
    "mlflow.log_artifact(path_to_pipeline_pkl)\n",
    "mlflow.log_artifact(path_to_history_pkl)"
   ]
  },
  {
   "cell_type": "markdown",
   "id": "831e624b-022a-4514-8e9e-7f31538ceb88",
   "metadata": {},
   "source": [
    "Завершаем логирование данного запуска и можно перейти в **MLflow UI** для просмотра результата"
   ]
  },
  {
   "cell_type": "code",
   "execution_count": 32,
   "id": "9f45899c-263b-4d52-88de-510b08573f65",
   "metadata": {},
   "outputs": [
    {
     "data": {
      "text/plain": [
       "'https://ml-platform-3b3039c3f6f64a.ml.msk.vkcs.cloud'"
      ]
     },
     "execution_count": 32,
     "metadata": {},
     "output_type": "execute_result"
    }
   ],
   "source": [
    "mlflow.end_run()\n",
    "\n",
    "mlflow.get_tracking_uri()"
   ]
  },
  {
   "cell_type": "markdown",
   "id": "db5580a7-3e82-4d7b-af73-12a789c6f875",
   "metadata": {},
   "source": [
    "## Третий эксперимент - best_quality"
   ]
  },
  {
   "cell_type": "markdown",
   "id": "5413cb46-6c0c-482e-b876-0ec003044760",
   "metadata": {},
   "source": [
    "Время для более продвинутых экспериментов. Попробуем найти лучший пайплайн.\n",
    "\n",
    "В этот раз будем использовать весь доступный пул моделей и операций для составления пайплайнов и немного изменим параметры запуска."
   ]
  },
  {
   "cell_type": "code",
   "execution_count": 33,
   "id": "3b2544fd-b825-4e75-b05c-452b83217cee",
   "metadata": {},
   "outputs": [
    {
     "data": {
      "text/plain": [
       "<ActiveRun: >"
      ]
     },
     "execution_count": 33,
     "metadata": {},
     "output_type": "execute_result"
    }
   ],
   "source": [
    "mlflow.start_run(run_name=\"best_quality\")"
   ]
  },
  {
   "cell_type": "code",
   "execution_count": 34,
   "id": "bb56e53c-3cdd-453d-8ab1-a9a5abfe9df9",
   "metadata": {},
   "outputs": [],
   "source": [
    "model = Fedot(\n",
    "    problem='regression',\n",
    "    timeout=60,\n",
    "    cv_folds=7,\n",
    "    metric='mae',\n",
    "    n_jobs=-1,\n",
    "    preset='best_quality'\n",
    ")"
   ]
  },
  {
   "cell_type": "markdown",
   "id": "2dc0886b-d5cd-427f-a443-56cb438838e2",
   "metadata": {},
   "source": [
    "Изменим следующие параметры:\n",
    "* `timeout = 120` - увеличим время на генерацию пайплайнов\n",
    "* `cv_folds = 7` - увеличим количество фолдов для предовтращения переобучения\n",
    "* `n_jobs = -1` - задействуем все доступные мощности\n",
    "* `preset = 'best_quality'` - для генерации будем использовать все доступные модели и операции"
   ]
  },
  {
   "cell_type": "code",
   "execution_count": 35,
   "id": "9a1adab0-b3e3-4acf-94d0-7b4f555bca9f",
   "metadata": {},
   "outputs": [
    {
     "name": "stdout",
     "output_type": "stream",
     "text": [
      "2022-10-18 10:05:53,341 - ApiComposer - Initial pipeline was fitted in 30.4 sec.\n",
      "2022-10-18 10:05:53,347 - ApiComposer - AutoML configured. Parameters tuning: True Time limit: 60 min Set of candidate models: ['adareg', 'lgbmreg', 'pca', 'normalization', 'knnreg', 'dtreg', 'scaling', 'svr', 'linear', 'ridge', 'poly_features', 'fast_ica', 'treg', 'gbr', 'sgdr', 'lasso', 'rfr']\n",
      "2022-10-18 10:05:53,508 - ApiComposer - Pipeline composition started.\n"
     ]
    },
    {
     "name": "stderr",
     "output_type": "stream",
     "text": [
      "Generations:   0%|          | 1/10000 [00:00<?, ?gen/s]"
     ]
    },
    {
     "name": "stdout",
     "output_type": "stream",
     "text": [
      "2022-10-18 10:46:58,273 - GroupedCondition - Optimisation stopped: Time limit is reached\n"
     ]
    },
    {
     "name": "stderr",
     "output_type": "stream",
     "text": [
      "Generations:   0%|          | 1/10000 [41:04<?, ?gen/s]"
     ]
    },
    {
     "name": "stdout",
     "output_type": "stream",
     "text": [
      "2022-10-18 10:46:58,281 - ApiComposer - Hyperparameters tuning started with 18 min. timeout\n"
     ]
    },
    {
     "name": "stderr",
     "output_type": "stream",
     "text": [
      "\n"
     ]
    },
    {
     "name": "stdout",
     "output_type": "stream",
     "text": [
      "  0%|          | 43/100000 [18:44<726:15:08, 26.16s/trial, best loss: 0.1887979634701129] \n",
      "2022-10-18 11:06:35,118 - ApiComposer - Hyperparameters tuning finished\n",
      "2022-10-18 11:06:35,691 - ApiComposer - Model generation finished\n",
      "2022-10-18 11:06:37,772 - FEDOT logger - Final pipeline was fitted\n",
      "2022-10-18 11:06:37,773 - FEDOT logger - Final pipeline: {'depth': 2, 'length': 2, 'nodes': [ridge, scaling]}\n"
     ]
    }
   ],
   "source": [
    "start_time = time()\n",
    "pipeline = model.fit(features=train_input)\n",
    "end_time = time()"
   ]
  },
  {
   "cell_type": "markdown",
   "id": "d9919a1e-8543-432a-8718-02b9f7aa1e01",
   "metadata": {},
   "source": [
    "Отправляем логи в **MLflow**"
   ]
  },
  {
   "cell_type": "code",
   "execution_count": 36,
   "id": "e8bb767f-d898-4e4b-8ebe-db6209a2e381",
   "metadata": {},
   "outputs": [],
   "source": [
    "prediction = model.predict(features=predict_input)\n",
    "metrics_result = model.get_metrics(metric_names=['rmse', 'mae', 'r2'])"
   ]
  },
  {
   "cell_type": "code",
   "execution_count": 37,
   "id": "f28c2219-9586-4489-953c-14d2f8f40f09",
   "metadata": {},
   "outputs": [],
   "source": [
    "model.history.save(\"history.json\");\n",
    "\n",
    "path_to_json = \"/home/jupyter-admin/history.json\"\n",
    "path_to_history_pkl = \"/home/jupyter-admin/history.pkl\"\n",
    "\n",
    "convert_json_to_pkl(path_to_json, path_to_history_pkl)"
   ]
  },
  {
   "cell_type": "code",
   "execution_count": 38,
   "id": "222b84da-dad3-4073-9dba-c06d896cc3ab",
   "metadata": {},
   "outputs": [],
   "source": [
    "model.current_pipeline.save(\"pipeline.json\", datetime_in_path=False)\n",
    "\n",
    "path_to_json = \"/home/jupyter-admin/pipeline/pipeline.json\"\n",
    "path_to_pipeline_pkl = \"/home/jupyter-admin/pipeline/pipeline.pkl\"\n",
    "\n",
    "convert_json_to_pkl(path_to_json, path_to_pipeline_pkl)"
   ]
  },
  {
   "cell_type": "code",
   "execution_count": 39,
   "id": "7734d670-bb68-4392-9644-8ba10ccb20ed",
   "metadata": {},
   "outputs": [],
   "source": [
    "pipeline.show(\"pipeline_structure.png\", node_size_scale=0.5, dpi=100)"
   ]
  },
  {
   "cell_type": "code",
   "execution_count": 40,
   "id": "8470332e-2369-4b71-9fe1-66cd735ddd82",
   "metadata": {},
   "outputs": [],
   "source": [
    "path_to_local = \"/home/jupyter-admin/\"\n",
    "\n",
    "# Логгирование парамметров запуска\n",
    "mlflow.log_param(\"preset\", model.params.api_params['preset'])\n",
    "mlflow.log_param(\"timeout\", model.params.api_params['timeout'])\n",
    "mlflow.log_param(\"cv_folds\", model.params.api_params['cv_folds'])\n",
    "\n",
    "# Логгирование метрик и времени обучения\n",
    "mlflow.log_metric(\"rmse\", metrics_result['rmse'])\n",
    "mlflow.log_metric(\"mae\", metrics_result['mae'])\n",
    "mlflow.log_metric(\"r2\", metrics_result['r2'])\n",
    "mlflow.log_metric(\"training_time\", (end_time - start_time) / 60)\n",
    "\n",
    "# логирование структуры в виде графика\n",
    "mlflow.log_artifact(path_to_local + \"pipeline_structure.png\")\n",
    "\n",
    "# логирование модели и истории\n",
    "mlflow.log_artifact(path_to_pipeline_pkl)\n",
    "mlflow.log_artifact(path_to_history_pkl)"
   ]
  },
  {
   "cell_type": "code",
   "execution_count": 41,
   "id": "54ce507d-16a2-44f7-88cd-254941e343bd",
   "metadata": {},
   "outputs": [
    {
     "data": {
      "text/plain": [
       "'https://ml-platform-3b3039c3f6f64a.ml.msk.vkcs.cloud'"
      ]
     },
     "execution_count": 41,
     "metadata": {},
     "output_type": "execute_result"
    }
   ],
   "source": [
    "mlflow.end_run()\n",
    "\n",
    "mlflow.get_tracking_uri()"
   ]
  },
  {
   "cell_type": "markdown",
   "id": "36ab8a63-0bd8-4b76-9059-1a9a3b69bd34",
   "metadata": {
    "tags": []
   },
   "source": [
    "## Послесловие"
   ]
  },
  {
   "cell_type": "markdown",
   "id": "aa1bf5b6-0305-4444-b01f-34e6c89c654e",
   "metadata": {},
   "source": [
    "В данном блокноте мы показали вам как запустить фреймворк **FEDOT** совместно с инструментом логирования **MLflow** для экспериментов и решения задачи регрессии.\n",
    "\n",
    "Теперь вы можете попробовать провести свои эксперименты.\n",
    "\n",
    "<i class=\"fa fa-github\" style=\"font-size:24px\"></i> - <a href=\"https://github.com/nccr-itmo/FEDOT\"> Наш репозиторий </a>\n",
    "\n",
    "<i class=\"fa fa-telegram\" style=\"font-size:24px;color:blue\"></i> - <a href=\"https://t.me/FEDOT_helpdesk\">Telegram канал поддержки</a>\n",
    "\n",
    "<i class=\"fa fa-youtube-play\" style=\"font-size:24px;color:red\"></i> - <a href=\"https://www.youtube.com/channel/UC4K9QWaEUpT_p3R4FeDp5jA\">Наш канал на Youtube</a>"
   ]
  },
  {
   "cell_type": "code",
   "execution_count": null,
   "id": "e7184383-1223-4759-8938-7ee5b912e3d7",
   "metadata": {},
   "outputs": [],
   "source": []
  }
 ],
 "metadata": {
  "kernelspec": {
   "display_name": "Python 3 (ipykernel)",
   "language": "python",
   "name": "python3"
  },
  "language_info": {
   "codemirror_mode": {
    "name": "ipython",
    "version": 3
   },
   "file_extension": ".py",
   "mimetype": "text/x-python",
   "name": "python",
   "nbconvert_exporter": "python",
   "pygments_lexer": "ipython3",
   "version": "3.9.7"
  }
 },
 "nbformat": 4,
 "nbformat_minor": 5
}
